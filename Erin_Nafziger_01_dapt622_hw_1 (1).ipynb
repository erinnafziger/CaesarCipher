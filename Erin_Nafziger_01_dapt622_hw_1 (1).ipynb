{
 "cells": [
  {
   "cell_type": "markdown",
   "metadata": {},
   "source": [
    "This notebook includes the first homework assignment for DAPT-622. The goal is to do some basic string manipulation and creating Python functions to _decrypt_ a message (string) using the *Caesar Cipher* method that was discussed during the **Introduction to Data Mining** lecture.\n",
    "\n",
    "This assignment is due on **13-Feb-2024**."
   ]
  },
  {
   "cell_type": "markdown",
   "metadata": {},
   "source": [
    "# Caesar Cipher"
   ]
  },
  {
   "cell_type": "markdown",
   "metadata": {},
   "source": [
    "![title](http://www.maths-resources.net/enrich/codes/caesar/images/caesarwheel3.gif)\n",
    "\n",
    "The letters on the outer circle represent letters in the original text (message). The letters on the inner circle represent the (encoded) cipher text.\n",
    "\n",
    "Here, the inner circle is rotated to the left by 3 (`k`=3), so the letter 'A' in the original text would get encoded as 'D' in the encrypted text."
   ]
  },
  {
   "cell_type": "markdown",
   "metadata": {},
   "source": [
    "In the classroom exercise, we wrote a Python function to _encrypt_ a message by using a key provided as a parameter in the function. We added some conditions in the function to avoid situations where the encrypted message contains non-alphabetic character(s). The `encrypt_message()` function is shown below in its entirety:"
   ]
  },
  {
   "cell_type": "code",
   "execution_count": 26,
   "metadata": {},
   "outputs": [],
   "source": [
    "def encrypt_message(in_message, key):\n",
    "\n",
    "    # Initialize the output (encrypted) message\n",
    "    out_message = ''\n",
    "\n",
    "    for in_char in in_message:\n",
    "        \n",
    "        if in_char.isalpha():\n",
    "            \n",
    "            # if letter, encrypt it\n",
    "            num = ord(in_char) + key\n",
    "            \n",
    "            # if the encrypted char is a special char,\n",
    "            #  then subtract 26 to wrap around to the beginning of the alphabet\n",
    "            \n",
    "            if in_char.isupper() and num > ord('Z'):\n",
    "                num -= 26\n",
    "                \n",
    "            elif in_char.islower() and num > ord('z'):\n",
    "                num -= 26\n",
    "            \n",
    "            # append the encrypted letter to the output string\n",
    "            out_message += chr(num)\n",
    "            \n",
    "        else:\n",
    "            \n",
    "            # if not a letter, append to the ouput string as is\n",
    "            out_message += in_char\n",
    "\n",
    "    return out_message"
   ]
  },
  {
   "cell_type": "markdown",
   "metadata": {},
   "source": [
    "In the example below, when this function is called with `Et tu, Brute?`, and k=3, it returns `Hw wx, Euxwh?` as the encrypted message."
   ]
  },
  {
   "cell_type": "code",
   "execution_count": 27,
   "metadata": {},
   "outputs": [
    {
     "name": "stdout",
     "output_type": "stream",
     "text": [
      "Encrypted message (k=3): Hw wx, Euxwh?\n"
     ]
    }
   ],
   "source": [
    "print ('Encrypted message (k=3):', \n",
    "       encrypt_message('Et tu, Brute?', 3))"
   ]
  },
  {
   "cell_type": "markdown",
   "metadata": {},
   "source": [
    "In another example below, when this function is called with `Virginia Commonwealth University`, and k=3, it returns `Ylujlqld Frpprqzhdowk Xqlyhuvlwb` as the encrypted message."
   ]
  },
  {
   "cell_type": "code",
   "execution_count": 28,
   "metadata": {},
   "outputs": [
    {
     "name": "stdout",
     "output_type": "stream",
     "text": [
      "Encrypted message (k=3): Ylujlqld Frpprqzhdowk Xqlyhuvlwb\n"
     ]
    }
   ],
   "source": [
    "print ('Encrypted message (k=3):', \n",
    "       encrypt_message('Virginia Commonwealth University', 3))"
   ]
  },
  {
   "cell_type": "markdown",
   "metadata": {},
   "source": [
    "#### For this homework assignment, your objective is to write a similar Python function named `decrypt_message()` that _decrypts_ an encrypted message using a key. Please submit your code in a Jupyter notebook via Canvas. If you have any difficulty uploading your notebook on Canvas, you can submit it via email at patelvj2@vcu.edu."
   ]
  },
  {
   "cell_type": "code",
   "execution_count": 30,
   "metadata": {},
   "outputs": [],
   "source": [
    "def decrypt_message(in_message, key):\n",
    "\n",
    "    out_message = ''\n",
    "\n",
    "    for in_char in in_message:\n",
    "            \n",
    "            # change character to ascii\n",
    "            num = ord(in_char)\n",
    "            \n",
    "            #leave non-alpha characters unchanged, decrypt upper and lowercase based on ascii range\n",
    "            num = num * ((num <= 64) or (91 <= num <= 96) or (num >= 123))\\\n",
    "            + ((num-64-key)%26 + 64) * (65 <= num <= 90)\\\n",
    "            + ((num-96-key)%26 + 96) * (97 <= num <= 122)\n",
    "            \n",
    "            \n",
    "            # append the encrypted letter to the output string\n",
    "            out_message += chr(num)\n",
    "            \n",
    "    return out_message"
   ]
  },
  {
   "cell_type": "markdown",
   "metadata": {},
   "source": [
    "To test this function, once written, decrypt the two messages shown below. The correct output (encrypted message) is shown as well."
   ]
  },
  {
   "cell_type": "code",
   "execution_count": 31,
   "metadata": {},
   "outputs": [
    {
     "name": "stdout",
     "output_type": "stream",
     "text": [
      "Decrypted message: Et tu, Brute?\n"
     ]
    }
   ],
   "source": [
    "encrypted_message = 'Hw wx, Euxwh?'\n",
    "\n",
    "print ('Decrypted message:', decrypt_message(encrypted_message, 3))"
   ]
  },
  {
   "cell_type": "markdown",
   "metadata": {},
   "source": [
    "The code above should generate the following output: `Decrypted message: Et tu, Brute?`"
   ]
  },
  {
   "cell_type": "code",
   "execution_count": 32,
   "metadata": {},
   "outputs": [
    {
     "name": "stdout",
     "output_type": "stream",
     "text": [
      "Decrypted message: Virginia Commonwealth University\n"
     ]
    }
   ],
   "source": [
    "encrypted_message = 'Ylujlqld Frpprqzhdowk Xqlyhuvlwb'\n",
    "\n",
    "print ('Decrypted message:', decrypt_message(encrypted_message, 3))"
   ]
  },
  {
   "cell_type": "markdown",
   "metadata": {},
   "source": [
    "The code above should generate the following output: `Decrypted message: Virginia Commonwealth University`"
   ]
  }
 ],
 "metadata": {
  "kernelspec": {
   "display_name": "Python 3 (ipykernel)",
   "language": "python",
   "name": "python3"
  },
  "language_info": {
   "codemirror_mode": {
    "name": "ipython",
    "version": 3
   },
   "file_extension": ".py",
   "mimetype": "text/x-python",
   "name": "python",
   "nbconvert_exporter": "python",
   "pygments_lexer": "ipython3",
   "version": "3.11.4"
  }
 },
 "nbformat": 4,
 "nbformat_minor": 4
}
